{
 "cells": [
  {
   "cell_type": "code",
   "execution_count": 3,
   "metadata": {},
   "outputs": [],
   "source": [
    "import ccxt, pandas as pd, matplotlib.pyplot as plt, sys, indicateur_techniques as ind, yfinance as yf\n",
    "sys.path.append('../Ohlcvplus')\n",
    "from ohlcv import OhlcvPlus"
   ]
  },
  {
   "cell_type": "code",
   "execution_count": 18,
   "metadata": {},
   "outputs": [],
   "source": [
    "class Backtest:\n",
    "    def __init__(self):\n",
    "        self.evolution = 0\n",
    "        self.position = None\n",
    "\n",
    "        self.all_position = pd.DataFrame({\n",
    "\t\t\t\"open_pos\" : [],\n",
    "            \"close_pos\" : [],\n",
    "\t\t\t\"mode\" : [],\n",
    "\t\t\t\"open\" : [],\n",
    "\t\t\t\"close\" : []\n",
    "\t\t})\n",
    "\n",
    "        self.stop_loss = None\n",
    "        self.take_profit = None\n",
    "\n",
    "    def load_crypto(self, symbol='BTC/USDT', time='30m', length=-1, sinces='2023-01-01 00:00:00'):\n",
    "\t\t\n",
    "        ohlcvp = OhlcvPlus(ccxt.binance())\n",
    "        self.data = ohlcvp.load(market=symbol, timeframe=time, since=sinces, limit=length, update=True, verbose=True, workers=100)\n",
    "        self.close = self.data.close\n",
    "    \n",
    "    def load_eur_usd(self, symbol='EUR/USD', time='30m', length=-1, sinces='2023-01-01 00:00:00'):\n",
    "\t\t\n",
    "        ohlcvp = OhlcvPlus(ccxt.bybit())\n",
    "        self.data = ohlcvp.load(market=symbol, timeframe=time, since=sinces, limit=length, update=True, verbose=True, workers=100)\n",
    "        self.close = self.data.close\n",
    "        \n",
    "    def export_csv(self, name):\n",
    "        self.data.to_csv(name)\n",
    "    \n",
    "    def import_csv(self, name, longeur):\n",
    "        self.data = pd.read_csv(name).head(longeur)\n",
    "        self.close = self.data.close\n",
    "    \n",
    "    def open_pos(self, pos:int, take_profit=None, stop_loss=None):\n",
    "        if self.position is None:\n",
    "            self.position = [self.close[pos], pos]\n",
    "\n",
    "            if take_profit:\n",
    "                self.take_profit = self.close[pos] * (1 + (take_profit / 100))\n",
    "            \n",
    "            if stop_loss:\n",
    "                self.stop_loss = self.close[pos] * (1 - (stop_loss / 100))\n",
    "    \n",
    "    def close_pos(self, pos:int):\n",
    "        if self.position is not None:\n",
    "            self.evolution += (self.close[pos] - self.position[0]) / self.position[0]\n",
    "            \n",
    "            add_ligne = pd.DataFrame({\n",
    "                    \"open_pos\" : [self.position[1]],\n",
    "                    \"close_pos\" : [pos],\n",
    "\t\t\t\t\t\"mode\" : [\"long\"],\n",
    "\t\t\t\t\t\"open\" : [self.position[0]],\n",
    "\t\t\t\t\t\"close\" : [self.close[pos]]\n",
    "\t\t\t\t})\n",
    "            self.all_position = pd.concat([self.all_position, add_ligne])\n",
    "            self.position = None\n",
    "    \n",
    "    def graphique(self, *args:list):\n",
    "        plt.close()\n",
    "        if len(args) > 1:\n",
    "            fig, axs = plt.subplots(len(args))\n",
    "            axs[0].plot(self.data.timestamp, self.close)\n",
    "            for i in range(len(args)):\n",
    "                for ind in args[i]:\n",
    "                    axs[i].plot(self.data.timestamp, ind)\n",
    "            \n",
    "            for row in range(len(self.all_position)):\n",
    "                ou = self.all_position['open_pos'].iloc[row]\n",
    "                x = self.data.timestamp[ou]\n",
    "                y = self.close[ou]\n",
    "                axs[0].plot(x, y, marker='^', markersize=10, color='g', label='Triangles')\n",
    "                \n",
    "                ou = self.all_position['close_pos'].iloc[row]\n",
    "                x = self.data.timestamp[ou]\n",
    "                y = self.close[ou]\n",
    "                axs[0].plot(x, y, marker='v', markersize=10, color='r', label='Triangles')\n",
    "            plt.subplots_adjust(wspace=0)\n",
    "            plt.show()\n",
    "\n",
    "        elif len(args) != 0:\n",
    "            fig, axs = plt.subplots()\n",
    "            axs.plot(self.data.timestamp, self.close)\n",
    "            for ind in args[0]:\n",
    "                axs.plot(self.data.timestamp, ind)\n",
    "            for row in range(len(self.all_position)):\n",
    "                ou = self.all_position['open_pos'].iloc[row]\n",
    "                x = self.data.timestamp[ou]\n",
    "                y = self.close[ou]\n",
    "                axs.plot(x, y, marker='^', markersize=10, color='g', label='Triangles')\n",
    "                \n",
    "                ou = self.all_position['close_pos'].iloc[row]\n",
    "                x = self.data.timestamp[ou]\n",
    "                y = self.close[ou]\n",
    "                axs.plot(x, y, marker='v', markersize=10, color='r', label='Triangles')\n",
    "            plt.subplots_adjust(wspace=0)\n",
    "            plt.show()\n",
    "        else:\n",
    "            fig, ax = plt.subplots()\n",
    "            ax.plot(self.data.timestamp, self.close)\n",
    "            for row in range(len(self.all_position)):\n",
    "                ou = self.all_position['open_pos'].iloc[row]\n",
    "                x = self.data.timestamp[ou]\n",
    "                y = self.close[ou]\n",
    "                ax.plot(x, y, marker='^', markersize=10, color='g', label='Triangles')\n",
    "                \n",
    "                ou = self.all_position['close_pos'].iloc[row]\n",
    "                x = self.data.timestamp[ou]\n",
    "                y = self.close[ou]\n",
    "                ax.plot(x, y, marker='v', markersize=10, color='r', label='Triangles')\n",
    "            plt.subplots_adjust(wspace=0)\n",
    "            plt.show()\n",
    "\n",
    "    def trier_signal(self, series):\n",
    "        result = []\n",
    "        current_value = False\n",
    "        for value in series:\n",
    "            if value == current_value:\n",
    "                result.append(False)\n",
    "            else:\n",
    "                current_value = value\n",
    "                result.append(value)\n",
    "        result[0] = False\n",
    "        return result\n",
    "    \n",
    "    def updates(self, pos):\n",
    "        if self.position is not None:\n",
    "            self.stop_loss_take_profit(pos)\n",
    "    \n",
    "    def stop_loss_take_profit(self, pos):\n",
    "        if self.take_profit:\n",
    "            if self.take_profit < self.close[pos]:\n",
    "                self.close_pos(pos)\n",
    "                self.take_profit = None\n",
    "        if self.stop_loss:\n",
    "            if self.stop_loss > self.close[pos]:\n",
    "                self.close_pos(pos)\n",
    "                self.stop_loss = None\n",
    "    \n",
    "    def edge(self):\n",
    "        evolution = ((self.close.iloc[-1] - self.close.iloc[0]) / self.close.iloc[0])\n",
    "        longueur = 0\n",
    "        for row in range(len(self.all_position)):\n",
    "            longueur += self.all_position['close_pos'].iloc[row] - self.all_position['open_pos'].iloc[row]\n",
    "        evolution_longueur = (evolution * longueur) / len(self.close)\n",
    "        self.alpha = self.evolution - evolution_longueur\n",
    "        print(self.alpha)\n",
    "\n",
    "    def reset(self):\n",
    "        data, close = self.data, self.close\n",
    "        self.__init__()\n",
    "        self.data, self.close = data, close\n",
    "    \n",
    "    def backtest(self, signal_achat, signal_vente, stop_loss=None, take_profit=None):\n",
    "        for i in range(len(self.close)):\n",
    "            if signal_achat[i] == True:\n",
    "                self.open_pos(i, take_profit, stop_loss)\n",
    "            elif signal_vente[i] == True:\n",
    "                self.close_pos(i)\n",
    "            \n",
    "            self.updates(i)\n",
    "        print(self.all_position)"
   ]
  },
  {
   "cell_type": "code",
   "execution_count": 22,
   "metadata": {},
   "outputs": [],
   "source": [
    "test = Backtest()\n",
    "test.import_csv('data_btc.csv', 5000)\n",
    "test.data['mm20'] = ind.mm(test.data.low, 20)\n",
    "test.data['a'] = test.data['mm20'] > test.data.close\n",
    "test.data['v'] = test.data['mm20'] < test.data.close\n",
    "test.data.timestamp = pd.to_datetime(test.data.timestamp, unit='ms')"
   ]
  },
  {
   "cell_type": "code",
   "execution_count": 23,
   "metadata": {},
   "outputs": [
    {
     "name": "stdout",
     "output_type": "stream",
     "text": [
      "    open_pos  close_pos  mode      open     close\n",
      "0       19.0       21.0  long  16513.34  16537.88\n",
      "0       52.0       55.0  long  16568.83  16587.85\n",
      "0       56.0       57.0  long  16584.06  16661.94\n",
      "0       95.0       96.0  long  16698.40  16710.46\n",
      "0       97.0      105.0  long  16672.87  16691.81\n",
      "..       ...        ...   ...       ...       ...\n",
      "0     4885.0     4889.0  long  29917.26  29947.47\n",
      "0     4893.0     4894.0  long  29841.35  29911.84\n",
      "0     4936.0     4938.0  long  30245.36  30283.39\n",
      "0     4969.0     4971.0  long  30616.98  30721.54\n",
      "0     4972.0     4984.0  long  30602.90  30429.99\n",
      "\n",
      "[295 rows x 5 columns]\n"
     ]
    }
   ],
   "source": [
    "test.backtest(test.data['a'], test.data['v'])"
   ]
  },
  {
   "cell_type": "code",
   "execution_count": 24,
   "metadata": {},
   "outputs": [
    {
     "name": "stdout",
     "output_type": "stream",
     "text": [
      "Using matplotlib backend: TkAgg\n"
     ]
    }
   ],
   "source": [
    "%matplotlib\n",
    "test.graphique([ind.mm(test.data.low, 20)], [ind.mm(test.data.low, 20)])"
   ]
  },
  {
   "cell_type": "code",
   "execution_count": 195,
   "metadata": {},
   "outputs": [],
   "source": [
    "test.reset()"
   ]
  },
  {
   "cell_type": "code",
   "execution_count": 157,
   "metadata": {},
   "outputs": [
    {
     "name": "stdout",
     "output_type": "stream",
     "text": [
      "2022-12-31 23:00:00\n"
     ]
    }
   ],
   "source": [
    "print(test.data.timestamp.iloc[0])"
   ]
  }
 ],
 "metadata": {
  "kernelspec": {
   "display_name": "Python 3",
   "language": "python",
   "name": "python3"
  },
  "language_info": {
   "codemirror_mode": {
    "name": "ipython",
    "version": 3
   },
   "file_extension": ".py",
   "mimetype": "text/x-python",
   "name": "python",
   "nbconvert_exporter": "python",
   "pygments_lexer": "ipython3",
   "version": "3.11.1"
  },
  "orig_nbformat": 4
 },
 "nbformat": 4,
 "nbformat_minor": 2
}
