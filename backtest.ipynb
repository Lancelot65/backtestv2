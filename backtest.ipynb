{
 "cells": [
  {
   "cell_type": "code",
   "execution_count": 2,
   "metadata": {},
   "outputs": [],
   "source": [
    "import ccxt, pandas as pd, matplotlib.pyplot as plt, sys\n",
    "sys.path.append('../Ohlcvplus')\n",
    "from ohlcv import OhlcvPlus"
   ]
  },
  {
   "cell_type": "code",
   "execution_count": 5,
   "metadata": {},
   "outputs": [],
   "source": [
    "def load_data(symbol='BTC/USDT', time='30m', length=500, sinces='2023-01-01 00:00:00'):\n",
    "\t\t#telecharcgement des donnée ohlcv\n",
    "\t\tohlcvp = OhlcvPlus(ccxt.binance(), database_path='data.db')\n",
    "\t\tdata = ohlcvp.load(market=symbol, timeframe=time, since=sinces, limit=length, update=True, verbose=True, workers=100)\n",
    "\t\treturn data"
   ]
  },
  {
   "cell_type": "code",
   "execution_count": 32,
   "metadata": {},
   "outputs": [],
   "source": [
    "class Backtest:\n",
    "    def __init__(self, capital):\n",
    "        self.capital = capital\n",
    "        self.position = None\n",
    "\n",
    "        self.all_position = pd.Dataframe({\n",
    "\t\t\t\"ligne\" : [],\n",
    "\t\t\t\"mode\" : [],\n",
    "\t\t\t\"open\" : [],\n",
    "\t\t\t\"close\" : []\n",
    "\t\t})\n",
    "\n",
    "    def load_data(self, symbol='BTC/USDT', time='30m', length=500, sinces='2023-01-01 00:00:00'):\n",
    "\t\t#telecharcgement des donnée ohlcv\n",
    "        ohlcvp = OhlcvPlus(ccxt.binance(), database_path='data.db')\n",
    "        self.data = ohlcvp.load(market=symbol, timeframe=time, since=sinces, limit=length, update=True, verbose=True, workers=100)\n",
    "        self.close = self.data.close\n",
    "    \n",
    "    def open_pos(self, close:int, taille:int, pos:int):\n",
    "        if self.position is None:\n",
    "            self.position = [close, taille / close, pos]\n",
    "            print(\"open\", pos)\n",
    "    \n",
    "    def close_pos(self, close:int, pos:int):\n",
    "        if self.position is not None:\n",
    "            self.capital += (close - self.position[0]) * self.position[2]\n",
    "            print('close', pos)\n",
    "            print(self.capital)\n",
    "\n",
    "            add_ligne = pd.DataFrame({\n",
    "\t\t\t\t\t\"ligne\" : [f\"{int(self.pos_long[2])} - {int(pos)}\"],\n",
    "\t\t\t\t\t\"mode\" : [\"long\"],\n",
    "\t\t\t\t\t\"open\" : [self.positions_long[0]],\n",
    "\t\t\t\t\t\"close\" : [close]\n",
    "\t\t\t\t})\n",
    "            self.all_position = pd.concat([self.all_position, add_ligne])\n",
    "            self.position = None\n",
    "    \n",
    "    def graphique(self, indicateur_1:list, indicateur_2:list):\n",
    "        fig, (ax1, ax2) = plt.subplots(2,1)\n",
    "\n",
    "        ax1.plot(self.close)\n",
    "\n",
    "        for ind in indicateur_1:\n",
    "            ax1.plot(ind)\n",
    "        \n",
    "        for ind in indicateur_2:\n",
    "            ax2.plot(ind)"
   ]
  }
 ],
 "metadata": {
  "kernelspec": {
   "display_name": "Python 3",
   "language": "python",
   "name": "python3"
  },
  "language_info": {
   "codemirror_mode": {
    "name": "ipython",
    "version": 3
   },
   "file_extension": ".py",
   "mimetype": "text/x-python",
   "name": "python",
   "nbconvert_exporter": "python",
   "pygments_lexer": "ipython3",
   "version": "3.11.1"
  },
  "orig_nbformat": 4
 },
 "nbformat": 4,
 "nbformat_minor": 2
}
