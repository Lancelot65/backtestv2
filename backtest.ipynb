{
 "cells": [
  {
   "cell_type": "code",
   "execution_count": 1,
   "metadata": {},
   "outputs": [],
   "source": [
    "import ccxt, pandas as pd, matplotlib.pyplot as plt, sys, indicateur_techniques as ind\n",
    "sys.path.append('../Ohlcvplus')\n",
    "from ohlcv import OhlcvPlus"
   ]
  },
  {
   "cell_type": "code",
   "execution_count": 30,
   "metadata": {},
   "outputs": [],
   "source": [
    "class Backtest:\n",
    "    def __init__(self, capital):\n",
    "        self.capital = capital\n",
    "        self.position = None\n",
    "\n",
    "        self.all_position = pd.DataFrame({\n",
    "\t\t\t\"open_pos\" : [],\n",
    "            \"close_pos\" : [],\n",
    "\t\t\t\"mode\" : [],\n",
    "\t\t\t\"open\" : [],\n",
    "\t\t\t\"close\" : []\n",
    "\t\t})\n",
    "\n",
    "    def load_data(self, symbol='BTC/USDT', time='30m', length=500, sinces='2023-01-01 00:00:00'):\n",
    "\t\t#telecharcgement des donnée ohlcv\n",
    "        ohlcvp = OhlcvPlus(ccxt.binance(), database_path='data.db')\n",
    "        self.data = ohlcvp.load(market=symbol, timeframe=time, since=sinces, limit=length, update=True, verbose=True, workers=100)\n",
    "        self.close = self.data.close\n",
    "    \n",
    "    def copie_data(self, df):\n",
    "        self.data = df\n",
    "        self.close = self.data.close\n",
    "    \n",
    "    def open_pos(self, taille:int, pos:int):\n",
    "        if self.position is None:\n",
    "            self.position = [self.close[pos], taille / self.close[pos], pos]\n",
    "            print(\"open\", pos)\n",
    "    \n",
    "    def close_pos(self, pos:int):\n",
    "        if self.position is not None:\n",
    "            self.capital += (self.close[pos] - self.position[0]) * self.position[2]\n",
    "            print('close', pos)\n",
    "            print(self.capital)\n",
    "\n",
    "            add_ligne = pd.DataFrame({\n",
    "                    \"open_pos\" : [self.position[2]],\n",
    "                    \"close_pos\" : [pos],\n",
    "\t\t\t\t\t\"mode\" : [\"long\"],\n",
    "\t\t\t\t\t\"open\" : [self.positions_long[0]],\n",
    "\t\t\t\t\t\"close\" : [self.close[pos]]\n",
    "\t\t\t\t})\n",
    "            self.all_position = pd.concat([self.all_position, add_ligne])\n",
    "            self.position = None\n",
    "    \n",
    "    def graphique(self, indicateur_1:list, indicateur_2:list):\n",
    "        plt.close()\n",
    "        fig, (ax1, ax2) = plt.subplots(2,1)\n",
    "\n",
    "        ax1.plot(self.close)\n",
    "\n",
    "        for ind in indicateur_1:\n",
    "            ax1.plot(ind)\n",
    "        \n",
    "        for ind in indicateur_2:\n",
    "            ax2.plot(ind)\n",
    "        \n",
    "        for row in range(len(self.all_position)):\n",
    "            x = self.all_position[open_pos][row]\n",
    "            y = self.close[x]\n",
    "            plt.plot(x, y, marker='^', markersize=10, color='g')\n",
    "            \n",
    "            x = self.all_position[close_pos][row]\n",
    "            y = self.close[x]\n",
    "            plt.plot(x, y, marker='v', markersize=10, color='r')\n",
    "\n",
    "\n",
    "    def trier_signal(self, series):\n",
    "        result = []\n",
    "        current_value = False\n",
    "        for value in series:\n",
    "            if value == current_value:\n",
    "                result.append(False)\n",
    "            else:\n",
    "                current_value = value\n",
    "                result.append(value)\n",
    "        result[0] = Fa\n",
    "        return result"
   ]
  },
  {
   "cell_type": "code",
   "execution_count": 31,
   "metadata": {},
   "outputs": [
    {
     "name": "stdout",
     "output_type": "stream",
     "text": [
      "Using matplotlib backend: TkAgg\n"
     ]
    }
   ],
   "source": [
    "%matplotlib\n",
    "test = Backtest(1000)\n",
    "test.copie_data(pd.read_csv('data_btc.csv'))\n",
    "strategie = test.trier_signal(ind.mm(test.close, 200) < test.close)\n",
    "for i in range(len(test.close)):\n",
    "    if strategie is True:\n",
    "        test.open_pos(test.close)\n",
    "    elif strategie is False:\n",
    "        test.close_pos()\n",
    "test.graphique([ind.mm(test.close, 200)], [ind.MACD(test.close)[0], ind.MACD(test.close)[1]])"
   ]
  },
  {
   "cell_type": "markdown",
   "metadata": {},
   "source": [
    "def open_pos(self, close:int, taille:int, pos:int):\n",
    "        if self.position is None:\n",
    "            self.position = [close, taille / close, pos]\n",
    "            print(\"open\", pos)\n",
    "    \n",
    "    def close_pos(self, close:int, pos:int):"
   ]
  }
 ],
 "metadata": {
  "kernelspec": {
   "display_name": "Python 3",
   "language": "python",
   "name": "python3"
  },
  "language_info": {
   "codemirror_mode": {
    "name": "ipython",
    "version": 3
   },
   "file_extension": ".py",
   "mimetype": "text/x-python",
   "name": "python",
   "nbconvert_exporter": "python",
   "pygments_lexer": "ipython3",
   "version": "3.11.1"
  },
  "orig_nbformat": 4
 },
 "nbformat": 4,
 "nbformat_minor": 2
}
